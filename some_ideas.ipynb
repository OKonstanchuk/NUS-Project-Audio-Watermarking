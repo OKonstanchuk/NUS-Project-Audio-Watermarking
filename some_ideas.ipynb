{
 "cells": [
  {
   "cell_type": "markdown",
   "metadata": {},
   "source": [
    "1.对音频信号进行Discrete Fourier Transform (DFT), Discrete Cosine Transform (DCT) 变换实现加密  \n",
    "2.将图片转为频谱可视化表示，嵌入原音频\n",
    "[参考博客](https://lightning-master.com/2019/07/23/audio-watermark/)"
   ]
  },
  {
   "cell_type": "markdown",
   "metadata": {},
   "source": [
    "## 关于wav格式\n",
    "wav文件格式是无损音频文件格式，相对于其他音频格式文件数据是没有经过压缩的，通常文件也相对比较大些。  \n",
    " \n",
    "声道有单声道和立体声之分，单声道振幅数据为n * 1矩阵点，立体声为n * 2矩阵点\n",
    "\n",
    "在单声道和双声道的处理上有所不同，要加特判"
   ]
  }
 ],
 "metadata": {
  "kernelspec": {
   "display_name": "Python 3.9.0 64-bit",
   "language": "python",
   "name": "python3"
  },
  "language_info": {
   "name": "python",
   "version": "3.9.0"
  },
  "orig_nbformat": 4,
  "vscode": {
   "interpreter": {
    "hash": "753aeb19137ca2fb7b877e985e93bd31f204e72d48463f0483489e58b671204d"
   }
  }
 },
 "nbformat": 4,
 "nbformat_minor": 2
}
